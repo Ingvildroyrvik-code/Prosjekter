{
 "cells": [
  {
   "cell_type": "markdown",
   "metadata": {},
   "source": [
    "# Oppgave 5: Numerisk integrasjon\n",
    "I denne oppgaven skal jeg teste ut ulike metoder for integrering. Jeg skal sammenligne svarene og metodene."
   ]
  },
  {
   "cell_type": "markdown",
   "metadata": {},
   "source": [
    "## Rektangelmetoden\n",
    "Rektangelmetoden er en metode å finne det bestemte integralet til en funksjon f(x) på. Området avgrenset av x=a, x=b, x-aksen og y-aksen deles inn i n rektangler med bredde h=(b-a)/n. Det bestemte integralet til en funksjon f(x) mellom x=a og x=b kan tilnærmes som arealet til n rektangeler med bredde: h=(b-a)/n."
   ]
  },
  {
   "cell_type": "code",
   "execution_count": 1,
   "metadata": {},
   "outputs": [
    {
     "name": "stdout",
     "output_type": "stream",
     "text": [
      "For n = 10 : 11.1\n",
      "For n = 100 : 11.909999999999998\n",
      "For n = 1000 : 11.991000000000001\n",
      "For n = 10000 : 11.999100000000023\n",
      "For n = 100000 : 11.999910000000003\n",
      "For n = 1000000 : 11.999991\n"
     ]
    }
   ],
   "source": [
    "#Rektangelmetoden av funksjon j\n",
    "def rektangelmetodenj(j, a, b, n):          #Definerer metoden\n",
    "    total = 0.0                             #Arealet i begynnelsen er null\n",
    "    h = (b-a)/n                             #Bredden til rektangelene\n",
    "    for k in range(0, n):               \n",
    "        total += j(a + k*h)                 #Legger j(a + k*h) til totalen\n",
    "    Areal1 = h*total                        #Regner ut arealet, høyden*bredden\n",
    "    return Areal1\n",
    "\n",
    "def j(x):                                   #Definerer funksjonen vi skal integrere. Vi skal bruke denne i de andre metodene også\n",
    "   return 2*x + 1\n",
    "\n",
    "i = 10                                      #Skriver først ut resultatet for 10 rektangler \n",
    "while i <= 1000000:                         #Skriver ut resultatet for n = i <= 1 000 000\n",
    "    print(\"For n =\", i, \":\", rektangelmetodenj(j, 0, 3, i))\n",
    "    i *= 10                                 #Skriver ut verdien for i*10 opptil 1 000 000"
   ]
  },
  {
   "cell_type": "markdown",
   "metadata": {},
   "source": [
    "Her er den analytiske verdien 12, og man kan se at jeg får veldig gode resultater fra og med n=100. Fra og med n=100 blir svaret 12 dersom jeg avrunder til to gjeldende sifre. Det blir bedre resultater jo høyere n (jo flere rektangler). "
   ]
  },
  {
   "cell_type": "code",
   "execution_count": 2,
   "metadata": {},
   "outputs": [
    {
     "name": "stdout",
     "output_type": "stream",
     "text": [
      "For n = 10 : 17.985\n",
      "For n = 100 : 20.686349999999994\n",
      "For n = 1000 : 20.968513500000007\n",
      "For n = 10000 : 20.99685013500002\n",
      "For n = 100000 : 20.999685001350198\n",
      "For n = 1000000 : 20.99996850001295\n"
     ]
    }
   ],
   "source": [
    "#Rektangelmetoden av funksjon f\n",
    "def rektangelmetodenf(f, a, b, n):          #Definerer metoden\n",
    "    total = 0.0                             #Arealet i begynnelsen er null\n",
    "    h = (b-a)/n                             #Bredden til rektangelene\n",
    "    for k in range(0, n):\n",
    "        total += f(a + k*h)                 #Legger f(a + k*h) til totalen\n",
    "    Arealr = h*total                        #Regner ut arealet, høyden*bredden\n",
    "    return Arealr\n",
    "\n",
    "def f(x):                                   #Definerer funksjonen vi skal integrere. Vi skal bruke denne i de andre metodene også\n",
    "   return 3*x**2 - 2*x + 1\n",
    "\n",
    "i = 10                                      #Skriver først ut resultatet for 10 rektangler \n",
    "while i <= 1000000:                         #Skriver ut resultatet for n = i <= 1 000 000\n",
    "    print(\"For n =\", i, \":\", rektangelmetodenf(f, 0, 3, i))\n",
    "    i *= 10                                 #Skriver ut verdien for i*10 opptil 1 000 000"
   ]
  },
  {
   "cell_type": "markdown",
   "metadata": {},
   "source": [
    "Analytisk verdi til svaret er 21. For n=10 får vi 17.985 som er veldig langt unna 21. Fra og med n=1000 får vi svar som er veldig nærme 21, og vi får 21 dersom vi avrunder til to gjeldende sifre. Etter n=10000 får vi ikke noen særlig bedre svar. Vi kan se at det blir nærmere 21, men det er ingen store endringer. Selv om svarene vi får er veldig nærme det analytiske svaret, har vi et lite stykke igjen. Jo flere rektangeler vi har (n), jo nærmere 21 kommer vi, for da har vi mange tynne rektangeler. "
   ]
  },
  {
   "cell_type": "code",
   "execution_count": 3,
   "metadata": {},
   "outputs": [
    {
     "name": "stdout",
     "output_type": "stream",
     "text": [
      "For n = 10 : 53.587499999999984\n",
      "For n = 100 : 61.353375\n",
      "For n = 1000 : 62.16003375000009\n",
      "For n = 10000 : 62.24100033750005\n",
      "For n = 100000 : 62.249100003375325\n",
      "For n = 1000000 : 62.249910000031285\n"
     ]
    }
   ],
   "source": [
    "#Rektangelmetoden av funksjon p\n",
    "def rektangelmetodenp(p, a, b, n):          #Definerer metoden\n",
    "    total = 0.0                             #Arealet i begynnelsen er null\n",
    "    h = (b-a)/n                             #Bredden til rektangelene\n",
    "    for k in range(0, n):\n",
    "        total += p(a + k*h)                 #Legger p(a + k*h) til totalen\n",
    "    Areal3 = h*total                        #Regner ut arealet, høyden*bredden\n",
    "    return Areal3\n",
    "\n",
    "def p(x):                                   #Definerer funksjonen vi skal integrere. Vi skal bruke denne i de andre metodene også\n",
    "   return x**3 + 3*x**2 + 2*x + 2\n",
    "\n",
    "i = 10                                      #Skriver først ut resultatet for 10 rektangler \n",
    "while i <= 1000000:                         #Skriver ut resultatet for n = i <= 1 000 000\n",
    "    print(\"For n =\", i, \":\", rektangelmetodenp(p, 0, 3, i))\n",
    "    i *= 10                                 #Skriver ut verdien for i*10 opptil 1 000 000"
   ]
  },
  {
   "cell_type": "markdown",
   "metadata": {},
   "source": [
    "Den analytiske verdien her er 62.25. Her får vi ikke så bra resultater før n=10000. Når n=1000000 får jeg et helt greit svar, men det burde være bedre. For n=10 får vi litt over 53, og det er langt unna 62.25. Vi ser her at det treng mange rektangler for å få et godt resultat."
   ]
  },
  {
   "cell_type": "markdown",
   "metadata": {},
   "source": [
    "Jeg ser etter å ha testet rektangelmetoden på ulike funksjoner av ulike grader, at jo høyere grad funksjonene har jo dårligere resultater får jeg. Jo høyere grad polynomet har, jo flere antall rektangler trenger jeg for å få et godt resultat. Rektangelmetoden benytter seg av nulltegradspolynom, fordi den baserer seg på rektangler med en rett linje uten stigning på toppen. Derfor gir den eksakte verdier for nulltegradpolynomer. Av de funksjonene jeg har testet gir den derfor best svar for førstgradspolynom og dårligst svar for tredjegradspolynom. Dersom man skal få et godt resultat ved å bruke rektangelmetoden på en polynom med grad 3 eller høyere, må man ta i bruk mange n/rektangler. "
   ]
  },
  {
   "cell_type": "markdown",
   "metadata": {},
   "source": [
    "## Trapesmetoden\n",
    "Trapesmetoden er enda en metode å integrere en funksjon på. Vi deler området som er avgrenset mellom x=a, x=b, x-aksen og y-aksen, inn i n like brede trapeser. Arealet til et trapes er gitt ved A=((a + b) / 2) * h. Når vi bruker ett trapes til å regne ut arealet under grafen får vi: A=((f(a) + f(b)) / 2) * (b - a). I dette tilfellet er f(a) og f(b) lengdene av linjestykkene fra x=a og x=b, mens (b - a) er høyden. Det bestemte integralet til en funksjon mellom x=a og x=b kan vi tilnærme arealet til n trapeser med bredden lik h=(b-a)/n.\n",
    "- Resultatet vi får ved å bruke trapesmetoden er bedre enn det vi får ved å bruke rektangelmetoden, fordi trapesmetoden utelater færre deler av det arealet vi skal regne ut enn det rektangelmetoden gjør. "
   ]
  },
  {
   "cell_type": "code",
   "execution_count": 4,
   "metadata": {},
   "outputs": [
    {
     "name": "stdout",
     "output_type": "stream",
     "text": [
      "For n = 10 : 12.0\n",
      "For n = 100 : 12.0\n",
      "For n = 1000 : 12.000000000000002\n",
      "For n = 10000 : 12.000000000000023\n",
      "For n = 100000 : 12.000000000000004\n",
      "For n = 1000000 : 12.0\n"
     ]
    }
   ],
   "source": [
    "#Trapesmetoden av funksjon j\n",
    "def trapesmetodenj(j, a, b, n):          #Definerer metoden\n",
    "    total = (j(a) + j(b))/2.0            #Arealet i begynnelsen\n",
    "    h = (b-a)/n                          #Bredden til trapesene\n",
    "    for k in range(1, n):\n",
    "        total += j(a + k*h)              #Legger j(a + k*h) til totalen\n",
    "    Arealt = h*total                     #Regner ut arealet\n",
    "    return Arealt\n",
    "\n",
    "i = 10                                   #Skriver først ut resultatet for 10 trapeser\n",
    "while i <= 1000000:                      #Skriver ut resultatet for n = i <= 1 000 000\n",
    "    print(\"For n =\", i, \":\", trapesmetodenj(j, 0, 3, i))\n",
    "    i *= 10                              #Skriver ut verdien for i*10 opptil 1 000 000"
   ]
  },
  {
   "cell_type": "markdown",
   "metadata": {},
   "source": [
    "Vi ser her at trapesmetoden gir oss veldig bra svar for et førstegradspolynom. Den analytiske verdien er 12, og tre av resultatene vi fikk er 12.0. For n=10, n=100 og n=1000000 får vi helt konkrete svar. "
   ]
  },
  {
   "cell_type": "code",
   "execution_count": 10,
   "metadata": {},
   "outputs": [
    {
     "name": "stdout",
     "output_type": "stream",
     "text": [
      "For n = 10 : 21.135\n",
      "For n = 100 : 21.00135\n",
      "For n = 1000 : 21.000013500000005\n",
      "For n = 10000 : 21.000000135000022\n",
      "For n = 100000 : 21.000000001350198\n",
      "For n = 1000000 : 21.00000000001295\n"
     ]
    }
   ],
   "source": [
    "#Trapesmetoden av funksjon f\n",
    "def trapesmetoden(f, a, b, n):           #Definerer metoden\n",
    "    total = (f(a) + f(b))/2.0            #Arealet i begynnelsen\n",
    "    h = (b-a)/n                          #Bredden til trapesene\n",
    "    for k in range(1, n):\n",
    "        total += f(a + k*h)              #Legger f(a + k*h) til totalen\n",
    "    Arealt = h*total                     #Regner ut arealet\n",
    "    return Arealt\n",
    "\n",
    "i = 10                                   #Skriver først ut resultatet for 10 trapeser\n",
    "while i <= 1000000:                      #Skriver ut resultatet for n = i <= 1 000 000\n",
    "    print(\"For n =\", i, \":\", trapesmetoden(f, 0, 3, i))\n",
    "    i *= 10                              #Skriver ut verdien for i*10 opptil 1 000 000"
   ]
  },
  {
   "cell_type": "markdown",
   "metadata": {},
   "source": [
    "Den analytiske verdien her er 21. Vi ser på resultatene at alle resultatene er veldig nærme 21, men spesielt n=10 er ganske langt unna 21. Jo flere trapeser vi har jo bedre resultater får vi, og vi kan se at ved n=1000000 får vi et veldig bra resultat."
   ]
  },
  {
   "cell_type": "code",
   "execution_count": 6,
   "metadata": {},
   "outputs": [
    {
     "name": "stdout",
     "output_type": "stream",
     "text": [
      "For n = 10 : 62.58749999999999\n",
      "For n = 100 : 62.25337499999999\n",
      "For n = 1000 : 62.250033750000085\n",
      "For n = 10000 : 62.25000033750007\n",
      "For n = 100000 : 62.25000000337533\n",
      "For n = 1000000 : 62.250000000031285\n"
     ]
    }
   ],
   "source": [
    "#Trapesmetoden av funksjon p\n",
    "def trapesmetodenp(p, a, b, n):          #Definerer metoden\n",
    "    total = (p(a) + p(b))/2.0            #Arealet i begynnelsen\n",
    "    h = (b-a)/n                          #Bredden til trapesene\n",
    "    for k in range(1, n):\n",
    "        total += p(a + k*h)              #Legger p(a + k*h) til totalen\n",
    "    Arealt = h*total                     #Regner ut arealet\n",
    "    return Arealt\n",
    "\n",
    "i = 10                                   #Skriver først ut resultatet for 10 trapeser\n",
    "while i <= 1000000:                      #Skriver ut resultatet for n = i <= 1 000 000\n",
    "    print(\"For n =\", i, \":\", trapesmetodenp(p, 0, 3, i))\n",
    "    i *= 10                              #Skriver ut verdien for i*10 opptil 1 000 000"
   ]
  },
  {
   "cell_type": "markdown",
   "metadata": {},
   "source": [
    "Her er den analytiske verdien 62.25. Jeg ser at når n=10 har vi en alt for høy verdi, men fra og med n=100 får jeg verdier som ligger veldig nær 62.25. Trapesmetoden fungerer også bra for tredjegradspolynomer som f.eks. funksjonen p. Dersom man skal bruke trapesmetoden for å integrere tredjegradspolynomer må man ta i bruk mange trapeser for å få et godt resultat. Det holder ikke med 10. "
   ]
  },
  {
   "cell_type": "markdown",
   "metadata": {},
   "source": [
    "Vi ser at med trapesmetoden får vi enda bedre svar enn med rektangelmetoden. Dette er fordi vi utelater mindre areal med trapesmetoden enn med rektangelmetoden, fordi trapesene tilpasser seg grafen bedre enn det rektangelene gjør. Trapesmetoden gir oss eksakte verdier for førstegradspolynom som f.eks. funksjonen j. Det er fordi førstegradspolynomer har en konstant stigning, noe som passer perfekt til trapesene som baserer seg på en rett linje som stigning. Etter å ha testet trapesmetoden for de tre funksjonene j, f og p ser jeg at svaret er for høyt når det er få trapeser som f.eks. 10. Jo flere trapeser jeg tar i bruk jo lavere blir verdien, og den kommer nærmere den analytiske verdien. Trapesmetoden gir eksakte verdier ved integrasjon av førstegradspolynomer, men den gir også veldig bra svar for andre- og tredjegradspolynomer, fordi trapesene legger seg godt inntil . Jo høyere grad polynomet du skal derivere er i, jo flere trapeser trenger du (høyere n)."
   ]
  },
  {
   "cell_type": "markdown",
   "metadata": {},
   "source": [
    "## Simpsons metode\n",
    "Simpsons metode er en metode å integrere en funskjon på ved å tilnære toppen med et andregradspolynom. Ved Simpsons metode erstattes funksjonen med parabelbuer. Et område blir avgrenset av x=a, x=b, x-aksen og y-aksen, og parabelbuene går gjennom midt- og endepunktet til intervallene.\n",
    "- Vi kan finne det bestemte integralet til en funksjon fra x=a til x=b :... (funskjonen)\n",
    "- Simpsons metode gir ofte bedre resultater enn rektangel- og trapesmetoden, fordi den utelater færre deler av det arealet vi skal finne ut av. "
   ]
  },
  {
   "cell_type": "code",
   "execution_count": 7,
   "metadata": {},
   "outputs": [
    {
     "name": "stdout",
     "output_type": "stream",
     "text": [
      "For n = 10 : 12.0\n",
      "For n = 100 : 11.999999999999995\n",
      "For n = 1000 : 11.999999999999998\n",
      "For n = 10000 : 12.000000000000009\n",
      "For n = 100000 : 11.999999999999991\n",
      "For n = 1000000 : 12.0\n"
     ]
    }
   ],
   "source": [
    "#Simpsons metode av funksjon j\n",
    "def Simpsonsmetodej(j, a, b, n):          #Definerer metoden\n",
    "    total = j(a) + j(b)                   #Arealet i begynnelsen er summen av linjestykkene fra x=a og x=b\n",
    "    h = (b-a)/n                           #Bredden til delintervallene\n",
    "    for k in range(1, n, 2):              #Her er steglengden 2 i motseting til i de andre metodene\n",
    "        total += 4 * j(a + k*h)           #Legger 4 * j(a + k*h) til totalen\n",
    "    for k in range(2, n-1, 2):\n",
    "        total += 2 * j(a + k*h)           #Legger 2 * j(a + k*h) til totalen\n",
    "    Areals = total*h/3                    #Regner ut arealet \n",
    "    return Areals\n",
    "\n",
    "i = 10                                    #Skriver først ut resultatet for n = i = 10\n",
    "while i <= 1000000:                       #Skriver ut resultatet for n = i <= 1 000 000\n",
    "    print(\"For n =\", i, \":\", Simpsonsmetodej(j, 0, 3, i))\n",
    "    i *= 10                               #Skriver ut verdien for i*10 opptil 1 000 000"
   ]
  },
  {
   "cell_type": "markdown",
   "metadata": {},
   "source": [
    "Når jeg integrerer denne førstegradspolynomen, funksjon j, får jeg noen eksakte verdier. Den analytiske verdien er 12, og to av verdiene jeg får ut er 12.0. Både n=10 og n=1000000 gir med 12.0. Jeg trenger ingen høy n for å få veldig gode resultater, men også høy n gir mer veldig gode resultater."
   ]
  },
  {
   "cell_type": "code",
   "execution_count": 8,
   "metadata": {},
   "outputs": [
    {
     "name": "stdout",
     "output_type": "stream",
     "text": [
      "For n = 10 : 21.0\n",
      "For n = 100 : 20.999999999999996\n",
      "For n = 1000 : 20.99999999999998\n",
      "For n = 10000 : 20.999999999999932\n",
      "For n = 100000 : 20.99999999999999\n",
      "For n = 1000000 : 20.999999999999922\n"
     ]
    }
   ],
   "source": [
    "#Simpsons metode av funksjon f\n",
    "def Simpsonsmetodef(f, a, b, n):          #Definerer metoden\n",
    "    total = f(a) + f(b)                   #Arealet i begynnelsen er summen av linjestykkene fra x=a og x=b\n",
    "    h = (b-a)/n                           #Bredden til delintervallene\n",
    "    for k in range(1, n, 2):              #Her er steglengden 2 i motseting til i de andre metodene\n",
    "        total += 4 * f(a + k*h)           #Legger 4 * f(a + k*h) til totalen\n",
    "    for k in range(2, n-1, 2):\n",
    "        total += 2 * f(a + k*h)           #Legger 2 * f(a + k*h) til totalen\n",
    "    Areals = total*h/3                    #Regner ut arealet \n",
    "    return Areals\n",
    "\n",
    "i = 10                                    #Skriver først ut resultatet for n = i = 10\n",
    "while i <= 1000000:                       #Skriver ut resultatet for n = i <= 1 000 000\n",
    "    print(\"For n =\", i, \":\", Simpsonsmetodef(f, 0, 3, i))\n",
    "    i *= 10                               #Skriver ut verdien for i*10 opptil 1 000 000"
   ]
  },
  {
   "cell_type": "markdown",
   "metadata": {},
   "source": [
    "Simpsons metode gir eksakte verdier for andregradspolynomer som funksjonen f, og alle svarene jeg får ut av er gode. Allerede når n=10 får jeg 21.0 som er det samme som det analytiske svaret 21. Jeg ser at jeg ikke trenger mange n for å få et veldig godt resultat. "
   ]
  },
  {
   "cell_type": "code",
   "execution_count": 9,
   "metadata": {},
   "outputs": [
    {
     "name": "stdout",
     "output_type": "stream",
     "text": [
      "For n = 10 : 62.24999999999999\n",
      "For n = 100 : 62.24999999999998\n",
      "For n = 1000 : 62.24999999999995\n",
      "For n = 10000 : 62.25000000000006\n",
      "For n = 100000 : 62.25000000000035\n",
      "For n = 1000000 : 62.250000000000504\n"
     ]
    }
   ],
   "source": [
    "#Simpsons metode av funksjon p\n",
    "def Simpsonsmetodep(p, a, b, n):          #Definerer metoden\n",
    "    total = p(a) + p(b)                   #Arealet i begynnelsen er summen av linjestykkene fra x=a og x=b\n",
    "    h = (b-a)/n                           #Bredden til delintervallene\n",
    "    for k in range(1, n, 2):              #Her er steglengden 2 i motseting til i de andre metodene\n",
    "        total += 4 * p(a + k*h)           #Legger 4 * p(a + k*h) til totalen\n",
    "    for k in range(2, n-1, 2):\n",
    "        total += 2 * p(a + k*h)           #Legger 2 * p(a + k*h) til totalen\n",
    "    Areals = total*h/3                    #Regner ut arealet \n",
    "    return Areals\n",
    "\n",
    "i = 10                                    #Skriver først ut resultatet for n = i = 10\n",
    "while i <= 1000000:                       #Skriver ut resultatet for n = i <= 1 000 000\n",
    "    print(\"For n =\", i, \":\", Simpsonsmetodep(p, 0, 3, i))\n",
    "    i *= 10                               #Skriver ut verdien for i*10 opptil 1 000 000"
   ]
  },
  {
   "cell_type": "markdown",
   "metadata": {},
   "source": [
    "Her er det analytiske svaret 62.25. Jeg får gode verdier for alle n, men jo jeg får bedre svar for høyere n. Alle svarene gir 62.25 dersom jeg avrunder til fire gjeldende sifre. Det vil si at Simpsons metode fungere bra for et tredjegradspolynom som funksjonen p."
   ]
  },
  {
   "cell_type": "markdown",
   "metadata": {},
   "source": [
    "Simpsons metode fungerer veldig bra for å integrere første-, andre- og tredjegradspolynomer. For både første- og andre gradspolynomene jeg integrerte med Simpsons metode, fikk jeg eksakte svar. Simpsons metode tar utgangspunkt i å tilnærme toppen med et andregradspolynom, og jeg forventet derfor eksakte verdier da jeg integrerte funksjonen f. Simpsons metode gir ofte veldig gode resultater, fordi den utelater veldig lite areal når man integrerer. Man trenger heller ingen høy n for å få gode resultater. Jo høyere grad polynomet du skal integrere er i, jo verre resultater får du. Men selv om resultatene blir verre, får man ikke dårlige resultater. De blir bare litt mindre eksakte. "
   ]
  },
  {
   "cell_type": "markdown",
   "metadata": {},
   "source": [
    "## Drøfte og sammenligne metodene\n",
    "I alle metodene for alle de ulike funksjonene brukte jeg et intervall mellom x=0 og x=3. Det er fordi da er det lettere å se likheter og ulikheter mellom metodene og sammenligne dem. Som man kan se over her er rektangelmetoden den enkleste metoden, fordi du trenger minst matematisk kunnskap for å få den til. Selv om rektangelmetoden er den enkleste metoden er den også den metoden som gir dårligst resultater, i tillegg til at den bruker lang tid. Rektangelmetoden gir oss gode resultater dersom n er høy (vi tar i bruk mange rektangler). Rektangelmetoden gir oss dårligst resultater, fordi den utelater mer areal enn det de andre metodene gjør. Det er fordi rektanglene ikke tilpasser buene i grafen på en like god måte som for eksempel trapeser. Trapesmetoden gir bedre resultater enn rektangelmetoden ved samme n, fordi trapesene tilpasser grafen bedre enn rektangelene. Derfor utelater trapesmetoden et mindre areal enn rektangelmetoden. Trapesmetoden passer bra ved funksjoner som varierer mye. Trapesmetoden, i likhet med rektangelmetoden, gir oss bedre resultater for høyere n. \n",
    "Simpsons metode er litt komplisert og bruker lang tid spesielt ved store oppgaver eller simuleringer, men den gir ofte veldig gode resultater. Simpsons metode gir gode resultater for alle de tre funksjonene jeg integrerte. Med Simpsons metode trenger man heller ikke å ta i bruk en høy n for å få veldig gode resultater. Grunnen til at Simpsons metode gir så gode resultater, er fordi den utelater et mindre areal av det som skal integreres enn det rektangel- og trapesmetoden gjør. Simpsons metode er mye mer anvendt enn de andre metodene. Det trengs mer matemaktisk kunnskap for å ta i bruk denne metoden, for den er ganske komplisert."
   ]
  },
  {
   "cell_type": "markdown",
   "metadata": {},
   "source": [
    "Rektangelmetoden tar utgangspunkt i nulltegradspolynom, fordi den baserer seg på rektangler med en rett linje uten stigning på toppen. Derfor gir den eksakte verdier for nulltegradpolynomer. Trapesmetoden tar utgangspunkt i førstegradspolynom, fordi den baserer seg på trapeser med en rett linje med stigning. Derfor gir denne metoden eksakte verdier for nulltegradspolynomer. På samme måte tar Simpsons metode utgangspunkt i å tilnærme toppen med et andregradpolymon, og gir derfor eksakte verdier for andregradspolynomer, slik som vi kan se i koden over. Man kan se i kodene over at alt i alt gir Simpsons metode best resutater, mens rektangelmetoden gir dårligst resutalter. Både trapesmetoden og Simpsons metode gir veldig gode resultater for alle de tre funksjonene, og verdiene som blir skrevet ut er ikke langt unna de analytiske verdiene. Etter å ha testet trapesmetoden for de tre funksjonene j, f og p ser jeg at svaret er for høyt når det er få trapeser som f.eks. 10. Jo flere trapeser jeg tar i bruk jo lavere blir verdien, og den kommer nærmere den analytiske verdien. Dersom man ikke er sikker på hvor mye en funksjon varierer kan det være lurt å bruke trapesmetoden, fordi den gir som oftest relativt gode svar uten for mye jobb. "
   ]
  }
 ],
 "metadata": {
  "kernelspec": {
   "display_name": "Python 3",
   "language": "python",
   "name": "python3"
  },
  "language_info": {
   "codemirror_mode": {
    "name": "ipython",
    "version": 3
   },
   "file_extension": ".py",
   "mimetype": "text/x-python",
   "name": "python",
   "nbconvert_exporter": "python",
   "pygments_lexer": "ipython3",
   "version": "3.7.3"
  }
 },
 "nbformat": 4,
 "nbformat_minor": 2
}
